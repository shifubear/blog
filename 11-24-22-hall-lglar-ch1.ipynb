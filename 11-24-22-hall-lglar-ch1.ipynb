{
 "cells": [
  {
   "cell_type": "markdown",
   "metadata": {},
   "source": [
    "# Hall LGLAR Chapter 1: Matrix Lie Groups\n",
    "\n",
    "Collection of some notes and solutions to exercises from Brian Hall's \"Lie Groups, Lie Algebras, and Representations\". My primary motivation for going through this literature around Lie groups is to understand the unitary groups and special unitary groups better, so the problems I solve will be focused on those groups more than others. \n",
    "\n",
    "## Definitions \n",
    "\n",
    "**Definition 1**: The **general linear group** over $\\mathbb{R}$, $\\text{GL}(n\\; \\mathbb{R})$, is the group of all $n$ by $n$ invertible matrices with real entries. A similar definition is used to define $\\text{GL}(n\\; \\mathbb{C})$.\n",
    "\n",
    "**Definition 2**: $M_n(\\mathbb{C})$ is the space of all $n$ by $n$ matrices with complex entries. \n",
    "\n",
    "**Definition 3**: Let $A_m$ be a sequence of complex matrices in $M_n(\\mathbb{C})$. We say that $A_m$ **converges** to a matrix $A$ if each entry of $A_m$ converges to its corresponding entry in $A$. \n",
    "\n",
    "**Definition 4**: A **matrix Lie group** is a subgroup $G$ of $\\text{GL}(n;\\mathbb{C})$ with the following property:\n",
    "  * If $A_m$ is any sequence of matrices in $G$, and $A_m$ converges to some matrix $A$, then either \n",
    "    1. $A \\in $G$\n",
    "    2. $A$ is not invertible. "
   ]
  },
  {
   "cell_type": "code",
   "execution_count": null,
   "metadata": {},
   "outputs": [],
   "source": []
  }
 ],
 "metadata": {
  "language_info": {
   "name": "python"
  },
  "orig_nbformat": 4
 },
 "nbformat": 4,
 "nbformat_minor": 2
}
