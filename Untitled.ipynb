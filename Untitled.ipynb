{
 "cells": [
  {
   "cell_type": "code",
   "execution_count": 1,
   "id": "c1d16ffe",
   "metadata": {},
   "outputs": [
    {
     "ename": "SyntaxError",
     "evalue": "invalid syntax (1802748967.py, line 3)",
     "output_type": "error",
     "traceback": [
      "\u001b[0;36m  Cell \u001b[0;32mIn [1], line 3\u001b[0;36m\u001b[0m\n\u001b[0;31m    Before getting into the trace distance, it will be helpful to take a small detour to review the polar and singular value decomposition of a matrix. The definition given in [2] is especially illuminating, so I'll be introducing that here.\u001b[0m\n\u001b[0m           ^\u001b[0m\n\u001b[0;31mSyntaxError\u001b[0m\u001b[0;31m:\u001b[0m invalid syntax\n"
     ]
    }
   ],
   "source": [
    "## Polar Decomposition \n",
    "\n",
    "Before getting into the trace distance, it will be helpful to take a small detour to review the polar and singular value decomposition of a matrix. The definition given in [2] is especially illuminating, so I'll be introducing that here. \n",
    "\n",
    "*Theorem 2.3* [2]: **(Polar decomposition)** Let $A$ be a linear operator on a vector space $V$. Then there exists unitary $U$ and positive operators $J$ and $K$ such that \n",
    "\n",
    "$$A = UJ = KU$$\n",
    "\n",
    "where the unique positive operators $J$ and $K$ satisfying these equations are defined by $J \\equiv \\sqrt{A^\\dagger A}$ and $K \\equiv \\sqrt{A A^\\dagger}$. Moreover, if $A$ is invertible then $U$ is unique. \n",
    "\n",
    "It can be very helpful to work through the proof of this statement so I encourage you to try if you haven't, but for this discussion I want to mainly highlight the left polar decomposition $A = UJ = U\\sqrt{A^\\dagger A}$. This is an interesting statement because it is saying that up to some unitary $U$, $A$ is closely related to $\\sqrt{A^\\dagger A}$. This quantity seems to be quite important as we shall see when discussing the trace distance. \n",
    "\n",
    "<!--Furthermore, if we study the trace of $A$ under this lens, something interesting happens. -->\n",
    "\n",
    "<!-- ## Singular Value Decomposition \n",
    "\n",
    "An extension of the polar decomposition is the singular value decomposition. \n",
    "\n",
    "## Trace Distance -->\n",
    "\n",
    "\n"
   ]
  },
  {
   "cell_type": "code",
   "execution_count": null,
   "id": "f526cb0b",
   "metadata": {},
   "outputs": [],
   "source": [
    "{\n",
    "    \"tags\": [\n",
    "        \"hide-input\",\n",
    "    ]\n",
    "}\n",
    "import numpy as np\n",
    "import matplotlib.pyplot as plt\n",
    "\n",
    "A = np.array([[0, 1],[1, 0]])\n",
    "v1 = [1/np.sqrt(3), np.sqrt(2/3)]\n",
    "e1 = [1/np.sqrt(2), 1/np.sqrt(2)]\n",
    "e2 = [1/np.sqrt(2) , -1/np.sqrt(2)]\n",
    "origin = np.array([[0, 0, 0],[0, 0, 0]]) # origin point\n",
    "\n",
    "fig, (ax1, ax2) = plt.subplots(1, 2, figsize=(10, 5))\n",
    "ax1.set_xlim([-2, 2])\n",
    "ax1.set_ylim([-2, 2])\n",
    "ax2.set_xlim([-2, 2])\n",
    "ax2.set_ylim([-2, 2])\n",
    "\n",
    "ax1.grid(True, which='both')\n",
    "ax2.grid(True, which='both')\n",
    "ax1.axhline(y=0, color='k')\n",
    "ax1.axvline(x=0, color='k')\n",
    "ax2.axhline(y=0, color='k')\n",
    "ax2.axvline(x=0, color='k')\n",
    "\n",
    "ax1.arrow(0, 0, *v1, head_width=0.05, head_length=0.1, color='r', label=\"v\")\n",
    "ax1.arrow(0, 0, *e1, head_width=0.05, head_length=0.1, color='b', label=\"e\")\n",
    "\n",
    "ax2.arrow(0, 0, *(A @ v1), head_width=0.05, head_length=.1, color='r', label=\"Av\")\n",
    "ax2.arrow(0, 0, *(A @ e1), head_width=0.05, head_length=.1, color='b', label=\"Ae\")\n",
    "\n",
    "ax1.legend()\n",
    "ax2.legend()\n",
    "\n",
    "plt.show()"
   ]
  },
  {
   "cell_type": "code",
   "execution_count": 2,
   "id": "6d0a48d8",
   "metadata": {},
   "outputs": [
    {
     "data": {
      "application/vnd.jupyter.widget-view+json": {
       "model_id": "a2f12873235a47fb8d68d52c8ab0149e",
       "version_major": 2,
       "version_minor": 0
      },
      "text/plain": [
       "Canvas(height=700, width=1000)"
      ]
     },
     "execution_count": 2,
     "metadata": {},
     "output_type": "execute_result"
    }
   ],
   "source": [
    "from ipycanvas import Canvas \n",
    "\n",
    "canvas = Canvas(width=1000, height=700)\n",
    "canvas.stroke_line(0, 350, 1000, 350)\n",
    "canvas.stroke_line(500, 0, 500, 700)\n",
    "# canvas.fill_rect(25, 25, 100, 100)\n",
    "# canvas.clear_rect(45, 45, 60, 60)\n",
    "# canvas.stroke_rect(50, 50, 50, 50)\n",
    "\n",
    "canvas\n"
   ]
  },
  {
   "cell_type": "code",
   "execution_count": null,
   "id": "f726c873",
   "metadata": {},
   "outputs": [],
   "source": [
    "import numpy as np \n",
    "\n",
    "A = np.array([[4, 3],[2, 5]])\n",
    "B = np.array([[4, -100000],[14838429, 5]])\n",
    "\n",
    "print(f\"Trace of A: {np.trace(A)}\\nTrace of B: {np.trace(B)}\")\n",
    "print(f\"eigenstuff of A: {np.linalg.eig(A)}\")"
   ]
  }
 ],
 "metadata": {
  "kernelspec": {
   "display_name": "Python 3 (ipykernel)",
   "language": "python",
   "name": "python3"
  },
  "language_info": {
   "codemirror_mode": {
    "name": "ipython",
    "version": 3
   },
   "file_extension": ".py",
   "mimetype": "text/x-python",
   "name": "python",
   "nbconvert_exporter": "python",
   "pygments_lexer": "ipython3",
   "version": "3.9.15"
  }
 },
 "nbformat": 4,
 "nbformat_minor": 5
}
