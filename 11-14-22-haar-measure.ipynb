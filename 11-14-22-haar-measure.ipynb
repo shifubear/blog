{
 "cells": [
  {
   "cell_type": "markdown",
   "metadata": {},
   "source": [
    "# Haar Measure\n",
    "\n",
    "Recently I've come across the term Haar measure when reading new works in quantum information. I wasn't familiar with this concept, and have recently spent some time studying what it was and why we are interested in it. After learning more about it, I can see why it's an important concept and that there are many cool things we've learned about the space of unitary matrices with the help of it. In this post I'll be introducing what the Haar measure is and it's application to the study of quantum information. Hopefully the math and code are helpful tools for readers to understand what it is as well. \n",
    "\n",
    "## Measure \n",
    "\n",
    "Measure theory is exactly what it sounds like: the mathematical study of quantities that can be measured. This includes quantities like length, area, volume, etc. It sounds quite trivial for shapes like a square or a cube, but like many mathematical pursuits, the study extends to higher dimensions, non-standard shapes, and other generalizations where it isn't immediately clear on how to define these quantities. It turns out we can gain a glimpse into some of the challenges of the field even from studying a circle. \n",
    "\n"
   ]
  },
  {
   "cell_type": "code",
   "execution_count": null,
   "metadata": {},
   "outputs": [],
   "source": []
  }
 ],
 "metadata": {
  "kernelspec": {
   "display_name": "Python 3.9.13 64-bit",
   "language": "python",
   "name": "python3"
  },
  "language_info": {
   "name": "python",
   "version": "3.9.13"
  },
  "orig_nbformat": 4,
  "vscode": {
   "interpreter": {
    "hash": "aee8b7b246df8f9039afb4144a1f6fd8d2ca17a180786b69acc140d282b71a49"
   }
  }
 },
 "nbformat": 4,
 "nbformat_minor": 2
}
