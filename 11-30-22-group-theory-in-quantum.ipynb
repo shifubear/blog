{
 "cells": [
  {
   "cell_type": "markdown",
   "metadata": {},
   "source": [
    "# Basic Group Theory to the Hidden Subgroup Problem for Quantum Enthusiasts\n",
    "\n",
    "Group theory is a powerful mathematical tool that has demonstrated its effectiveness in many branches of science, but the formal study of it is often reserved for more advanced undergraduate mathematics students. This has led to many interesting lens' people have introduced group theory through, and I thought it could be fun to try something like that from the direction of quantum computing. To that end, this post is targeted to quantum computing enthusiasts, which I define here loosely as someone who has gone through most of the Qiskit textbook. This post is inspired and heavily draws from [Scott Aaronson's lecture notes]() on __. I especially found the introduction to the hidden subgroup problem as a generalization of Simon's algorithm to be a very illuminating way to learn about it, especially since many other introductions to HSP assume a degree of familiarity with the foundations of group theory. \n",
    "\n",
    "In this post I'll introduce the basics of group theory using examples from quantum computing and build up to an exposition to the hidden subgroup problem. \n",
    "\n",
    "## Groups \n",
    "\n",
    "Before formally introducing groups, it may be worth stepping back and thinking about something we may take for granted when doing math. When we add two real numbers, we are not worried that we'll get something that is NOT a real number (something like a complex number or a vector). Similarly, when we multiply two integers, we know the solution will be an integer too. This may sound like a silly thing to think about, but it becomes harder to just assume that two of the same type of \"thing\" will stay the same type of \"thing\" after adding or multiplying. A group is a mathematical structure that allows us to not worry about this, since we require these properties by definition. \n",
    "\n",
    "---\n",
    "\n",
    "**Example**: For a simple example, consider the set of all integers, which we denote as $\\mathbb{Z} = \\{\\cdots, -3, -2, -1, 0, 1, 2, 3, \\cdots\\}$. If we added -2 and 3, we get 1 which is still inside $\\mathbb{Z}$. We can write this more formally for ALL possible combinations by \n",
    "\n",
    "$$\\forall a,b \\in \\mathbb{Z}, a + b \\in \\mathbb{Z}.$$\n",
    "\n",
    "The integers equipped with the addition operation (which we would write as $(\\mathbb{Z}, +)$ is a good basic example of a group since many of us have been working with this group since elementary school. If there are any definitions or concepts about general groups that you're having trouble understanding, try writing out explicit examples using $\\mathbb{Z}$. \n",
    "\n",
    "---\n",
    "\n",
    "We can now introduce groups a little more formally: A group $G = (S, \\cdot)$ is a set of elements $S$ (numbers, vectors, quantum states, etc.) that have an operation (addition, multiplication, etc.) $\\cdot$ that keeps two elements in the original set satisfying the following properties: \n",
    "\n",
    "1. (Associativity): For $a, b, c \\in S$, $(a \\cdot b) \\cdot c = a \\cdot (b \\cdot c)$. In english, the order which we apply the group operation doesn't matter. \n",
    "2. (Identity Element): There exists an identity element $e \\in S$ such that for any $a \\in S$, $a \\cdot e = e \\cdot a = a$. \n",
    "3. (Inverse Element): For every element $a \\in S$, $S$ contains its inverse element $a^{-1}$ such that $a \\cdot a^{-1} = a^{-1} \\cdot a = e$. \n",
    "\n",
    "If the definitions above aren't very clear, try seeing if you can find what the identity element for $(\\mathbb{Z}, +)$ is, and what an inverse element may look like in that group. Another good exercise to check your understanding is to see if the integers form a group if the operation is multiplication instead of addition. \n",
    "\n",
    "Here I briefly introduce two other groups that are important in quantum computing. \n",
    "\n",
    "---\n",
    "\n",
    "**Example** ($n$ bit strings): Consider the set of all $n$ bit strings, formally written as $\\mathbb{Z}_2^n$. If we consider this set with a bit-wise XOR ($\\oplus$) operation, it's easy to see that $x \\oplus y$ is still an $n$-bit string. For example, \n",
    "\n",
    "$$101 \\oplus 011 = 110.$$\n",
    "\n",
    "Furthermore, since $\\oplus$ is an associative operation, performing this in a bitwise manner preserves the associative property. \n",
    "\n",
    "The identity element $e$ will be the all $0$ bit string, since XOR-ing any $n$ bit string with $e$ will not change the bit string. \n",
    "\n",
    "Finally, the inverse of any bit string in this group is itself, since XOR-ing a bit string with itself will return the all zero string $e$. \n",
    "\n",
    "---\n",
    "\n",
    "**Example** ($n \\times n$ matrices): Let $M_n(\\mathbb{C})$ be the set of all $n \\times n$ matrices with complex elements. This set trivially forms a group when equipped with matrix addition as the operation. However, the situation is a little bit different if we try to make the group using matrix multiplication. Associativity and identity element are easy to show, but we run into the issue that not every matrix has an inverse. \n",
    "\n",
    "If we recall from linear algebra class, there were several conditions required for a matrix to be invertible like having a non-zero determinant, full rank, etc. If we restrict our attention to matrices that do satisfy these requirements, we find that we do indeed have a group. The group of all invertible $n \\times n$ matrices equipped with matrix multiplication is called the general linear group, and is often written as $GL(n;\\mathbb{C})$. Associativity is a property of matrix multiplication, and the identity matrix is the identity element of the group. Finally, we can multiply each matrix by its inverse to get the identity matrix, showing that this is indeed a group. \n",
    "\n",
    "---\n",
    "\n",
    "## Subgroups and Cosets \n",
    "\n",
    "Looking at subgroups gives us a way to grasp some insight onto the structure of a group. A subgroup is a smaller part of the group that still satisfies the above three properties using the same operation. \n",
    "\n",
    "\n"
   ]
  },
  {
   "cell_type": "markdown",
   "metadata": {},
   "source": []
  }
 ],
 "metadata": {
  "language_info": {
   "name": "python"
  },
  "orig_nbformat": 4
 },
 "nbformat": 4,
 "nbformat_minor": 2
}
